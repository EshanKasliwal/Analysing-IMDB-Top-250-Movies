{
 "cells": [
  {
   "cell_type": "markdown",
   "id": "27c34424",
   "metadata": {},
   "source": [
    "# Importing Dependencies"
   ]
  },
  {
   "cell_type": "code",
   "execution_count": 1,
   "id": "af50dea4",
   "metadata": {},
   "outputs": [],
   "source": [
    "from bs4 import BeautifulSoup as bs\n",
    "import requests\n",
    "import pandas as pd"
   ]
  },
  {
   "cell_type": "markdown",
   "id": "761857a5",
   "metadata": {},
   "source": [
    "# Accessing the website using request module  "
   ]
  },
  {
   "cell_type": "code",
   "execution_count": 2,
   "id": "34d04051",
   "metadata": {},
   "outputs": [],
   "source": [
    "source = requests.get('https://www.imdb.com/chart/top/')\n",
    "\n",
    "#extracting the html source code and parsing it \n",
    "soup = bs(source.text, 'html.parser')"
   ]
  },
  {
   "cell_type": "markdown",
   "id": "489283f4",
   "metadata": {},
   "source": [
    "# Code to Access the tbody tag "
   ]
  },
  {
   "cell_type": "code",
   "execution_count": 3,
   "id": "848c5d67",
   "metadata": {},
   "outputs": [
    {
     "name": "stdout",
     "output_type": "stream",
     "text": [
      "250\n"
     ]
    }
   ],
   "source": [
    "#We first find main tbody tag that has the list of all the movies \n",
    "# then we find the list of number of movies inside the tbody tag\n",
    "#find_all always returns a list \n",
    "movies = soup.find('tbody', class_= 'lister-list').find_all('tr')\n",
    "print(len(movies))"
   ]
  },
  {
   "cell_type": "markdown",
   "id": "55c78201",
   "metadata": {},
   "source": [
    "for accessing all the < tr > tags "
   ]
  },
  {
   "cell_type": "code",
   "execution_count": 4,
   "id": "3b159d11",
   "metadata": {},
   "outputs": [
    {
     "name": "stdout",
     "output_type": "stream",
     "text": [
      "<tr>\n",
      "<td class=\"posterColumn\">\n",
      "<span data-value=\"1\" name=\"rk\"></span>\n",
      "<span data-value=\"9.23524689308548\" name=\"ir\"></span>\n",
      "<span data-value=\"7.791552E11\" name=\"us\"></span>\n",
      "<span data-value=\"2671612\" name=\"nv\"></span>\n",
      "<span data-value=\"-1.7647531069145206\" name=\"ur\"></span>\n",
      "<a href=\"/title/tt0111161/\"> <img alt=\"The Shawshank Redemption\" height=\"67\" src=\"https://m.media-amazon.com/images/M/MV5BMDFkYTc0MGEtZmNhMC00ZDIzLWFmNTEtODM1ZmRlYWMwMWFmXkEyXkFqcGdeQXVyMTMxODk2OTU@._V1_UY67_CR0,0,45,67_AL_.jpg\" width=\"45\"/>\n",
      "</a> </td>\n",
      "<td class=\"titleColumn\">\n",
      "      1.\n",
      "      <a href=\"/title/tt0111161/\" title=\"Frank Darabont (dir.), Tim Robbins, Morgan Freeman\">The Shawshank Redemption</a>\n",
      "<span class=\"secondaryInfo\">(1994)</span>\n",
      "</td>\n",
      "<td class=\"ratingColumn imdbRating\">\n",
      "<strong title=\"9.2 based on 2,671,612 user ratings\">9.2</strong>\n",
      "</td>\n",
      "<td class=\"ratingColumn\">\n",
      "<div class=\"seen-widget seen-widget-tt0111161 pending\" data-titleid=\"tt0111161\">\n",
      "<div class=\"boundary\">\n",
      "<div class=\"popover\">\n",
      "<span class=\"delete\"> </span><ol><li>1<li>2<li>3<li>4<li>5<li>6<li>7<li>8<li>9<li>10</li></li></li></li></li></li></li></li></li></li></ol> </div>\n",
      "</div>\n",
      "<div class=\"inline\">\n",
      "<div class=\"pending\"></div>\n",
      "<div class=\"unseeable\">NOT YET RELEASED</div>\n",
      "<div class=\"unseen\"> </div>\n",
      "<div class=\"rating\"></div>\n",
      "<div class=\"seen\">Seen</div>\n",
      "</div>\n",
      "</div>\n",
      "</td>\n",
      "<td class=\"watchlistColumn\">\n",
      "<div class=\"wlb_ribbon\" data-recordmetrics=\"true\" data-tconst=\"tt0111161\"></div>\n",
      "</td>\n",
      "</tr>\n"
     ]
    }
   ],
   "source": [
    "#this will return the while information of the first <tr> tag\n",
    "for movie in movies:\n",
    "    print(movie)\n",
    "    break"
   ]
  },
  {
   "cell_type": "markdown",
   "id": "c8b3aa97",
   "metadata": {},
   "source": [
    "# Fetching the movie rank, name, rating for the first movie "
   ]
  },
  {
   "cell_type": "code",
   "execution_count": 5,
   "id": "6fb063df",
   "metadata": {},
   "outputs": [
    {
     "name": "stdout",
     "output_type": "stream",
     "text": [
      "The Shawshank Redemption\n"
     ]
    }
   ],
   "source": [
    "#Name of the movie  \n",
    "for movie in movies:\n",
    "    name = movie.find('td', class_='titleColumn').a.text\n",
    "    print(name)\n",
    "    break\n",
    "\n",
    "# .a because the information we need is inside the tag a. "
   ]
  },
  {
   "cell_type": "code",
   "execution_count": 6,
   "id": "713a418d",
   "metadata": {},
   "outputs": [
    {
     "name": "stdout",
     "output_type": "stream",
     "text": [
      "\n",
      "      1.\n",
      "      The Shawshank Redemption\n",
      "(1994)\n",
      "\n"
     ]
    }
   ],
   "source": [
    "#Rank of the movie-\n",
    "for movie in movies:\n",
    "    name = movie.find('td', class_= 'titleColumn').a.text\n",
    "\n",
    "    rank = movie.find('td', class_ = 'titleColumn').text\n",
    "    print(rank)\n",
    "    break"
   ]
  },
  {
   "cell_type": "code",
   "execution_count": 7,
   "id": "beee17a8",
   "metadata": {},
   "outputs": [
    {
     "name": "stdout",
     "output_type": "stream",
     "text": [
      "1.The Shawshank Redemption(1994)\n"
     ]
    }
   ],
   "source": [
    "#Rank of the movie--- we remove the additional information by stripping the text \n",
    "for movie in movies:\n",
    "    name = movie.find('td', class_= 'titleColumn').a.text\n",
    "\n",
    "    rank = movie.find('td', class_ = 'titleColumn').get_text(strip= True)\n",
    "    print(rank)\n",
    "    break"
   ]
  },
  {
   "cell_type": "code",
   "execution_count": 8,
   "id": "cecb5cd8",
   "metadata": {},
   "outputs": [
    {
     "name": "stdout",
     "output_type": "stream",
     "text": [
      "['1', 'The Shawshank Redemption(1994)']\n"
     ]
    }
   ],
   "source": [
    "#Rank of the movie- we convert the rank into the list and select the data at 0th index\n",
    "for movie in movies:\n",
    "    name = movie.find('td', class_= 'titleColumn').a.text\n",
    "\n",
    "    rank = movie.find('td', class_ = 'titleColumn').get_text(strip = True).split('.')\n",
    "    print(rank)\n",
    "    break"
   ]
  },
  {
   "cell_type": "code",
   "execution_count": 9,
   "id": "1ad87904",
   "metadata": {},
   "outputs": [
    {
     "name": "stdout",
     "output_type": "stream",
     "text": [
      "1\n"
     ]
    }
   ],
   "source": [
    "#Rank of the movie-- we finally have the rank \n",
    "for movie in movies:\n",
    "    name = movie.find('td', class_= 'titleColumn').a.text\n",
    "\n",
    "    rank = movie.find('td', class_ = 'titleColumn').get_text(strip = True).split('.')[0]\n",
    "    print(rank)\n",
    "    break"
   ]
  },
  {
   "cell_type": "code",
   "execution_count": 10,
   "id": "ef331c3d",
   "metadata": {},
   "outputs": [
    {
     "name": "stdout",
     "output_type": "stream",
     "text": [
      "(1994)\n"
     ]
    }
   ],
   "source": [
    "#Now we find the Year in which the movie was released \n",
    "for movie in movies:\n",
    "    name = movie.find('td', class_= 'titleColumn').a.text\n",
    "\n",
    "    rank = movie.find('td', class_ = 'titleColumn').get_text(strip = True).split('.')[0]\n",
    "\n",
    "    year = movie.find('td', class_ = 'titleColumn').span.text\n",
    "    print(year)\n",
    "    break"
   ]
  },
  {
   "cell_type": "code",
   "execution_count": 11,
   "id": "bd8e80e6",
   "metadata": {},
   "outputs": [
    {
     "name": "stdout",
     "output_type": "stream",
     "text": [
      "1994\n"
     ]
    }
   ],
   "source": [
    "#Release Year - we strip down the unnecessary brackets \n",
    "for movie in movies:\n",
    "    name = movie.find('td', class_= 'titleColumn').a.text\n",
    "\n",
    "    rank = movie.find('td', class_ = 'titleColumn').get_text(strip = True).split('.')[0]\n",
    "\n",
    "    year = movie.find('td', class_ = 'titleColumn').span.text.strip('()')\n",
    "    print(year)\n",
    "    break"
   ]
  },
  {
   "cell_type": "code",
   "execution_count": 12,
   "id": "a560bb25",
   "metadata": {},
   "outputs": [
    {
     "name": "stdout",
     "output_type": "stream",
     "text": [
      "<td class=\"ratingColumn imdbRating\">\n",
      "<strong title=\"9.2 based on 2,671,612 user ratings\">9.2</strong>\n",
      "</td>\n"
     ]
    }
   ],
   "source": [
    "#Rating of the movie  \n",
    "for movie in movies:\n",
    "    name = movie.find('td', class_= 'titleColumn').a.text\n",
    "\n",
    "    rank = movie.find('td', class_ = 'titleColumn').get_text(strip = True).split('.')[0]\n",
    "\n",
    "    year = movie.find('td', class_ = 'titleColumn').span.text.strip('()')\n",
    "\n",
    "    rating = movie.find('td', class_= 'ratingColumn imdbRating' )\n",
    "    print(rating)\n",
    "    break"
   ]
  },
  {
   "cell_type": "code",
   "execution_count": 13,
   "id": "951516e3",
   "metadata": {},
   "outputs": [
    {
     "name": "stdout",
     "output_type": "stream",
     "text": [
      "9.2\n"
     ]
    }
   ],
   "source": [
    "#Rating  of the movie-- we access the text inside the <strong> tag\n",
    "for movie in movies:\n",
    "    name = movie.find('td', class_= 'titleColumn').a.text\n",
    "\n",
    "    rank = movie.find('td', class_ = 'titleColumn').get_text(strip = True).split('.')[0]\n",
    "\n",
    "    year = movie.find('td', class_ = 'titleColumn').span.text.strip('()')\n",
    "\n",
    "    rating = movie.find('td', class_= 'ratingColumn imdbRating' ).strong.text\n",
    "    print(rating)\n",
    "    break"
   ]
  },
  {
   "cell_type": "code",
   "execution_count": 14,
   "id": "4895ebd7",
   "metadata": {},
   "outputs": [
    {
     "name": "stdout",
     "output_type": "stream",
     "text": [
      "1 The Shawshank Redemption 1994 9.2\n"
     ]
    }
   ],
   "source": [
    "#Formatting the information we extracted \n",
    "for movie in movies:\n",
    "    name = movie.find('td', class_= 'titleColumn').a.text\n",
    "\n",
    "    rank = movie.find('td', class_ = 'titleColumn').get_text(strip = True).split('.')[0]\n",
    "\n",
    "    year = movie.find('td', class_ = 'titleColumn').span.text.strip('()')\n",
    "\n",
    "    rating = movie.find('td', class_= 'ratingColumn imdbRating' ).strong.text\n",
    "    print(rank, name, year, rating )\n",
    "    break"
   ]
  },
  {
   "cell_type": "markdown",
   "id": "17eff647",
   "metadata": {},
   "source": [
    "# Fetching data of all the movies "
   ]
  },
  {
   "cell_type": "code",
   "execution_count": 15,
   "id": "cde99e51",
   "metadata": {},
   "outputs": [
    {
     "name": "stdout",
     "output_type": "stream",
     "text": [
      "The Shawshank Redemption 1 1994 9.2\n",
      "The Godfather 2 1972 9.2\n",
      "The Dark Knight 3 2008 9.0\n",
      "The Godfather Part II 4 1974 9.0\n",
      "12 Angry Men 5 1957 9.0\n",
      "Schindler's List 6 1993 8.9\n",
      "The Lord of the Rings: The Return of the King 7 2003 8.9\n",
      "Pulp Fiction 8 1994 8.8\n",
      "The Lord of the Rings: The Fellowship of the Ring 9 2001 8.8\n",
      "Il buono, il brutto, il cattivo 10 1966 8.8\n",
      "Forrest Gump 11 1994 8.8\n",
      "Fight Club 12 1999 8.7\n",
      "The Lord of the Rings: The Two Towers 13 2002 8.7\n",
      "Inception 14 2010 8.7\n",
      "The Empire Strikes Back 15 1980 8.7\n",
      "The Matrix 16 1999 8.7\n",
      "Goodfellas 17 1990 8.7\n",
      "One Flew Over the Cuckoo's Nest 18 1975 8.6\n",
      "Se7en 19 1995 8.6\n",
      "Shichinin no samurai 20 1954 8.6\n",
      "It's a Wonderful Life 21 1946 8.6\n",
      "The Silence of the Lambs 22 1991 8.6\n",
      "Cidade de Deus 23 2002 8.6\n",
      "Saving Private Ryan 24 1998 8.6\n",
      "La vita è bella 25 1997 8.6\n",
      "Interstellar 26 2014 8.6\n",
      "The Green Mile 27 1999 8.6\n",
      "Star Wars 28 1977 8.6\n",
      "Terminator 2: Judgment Day 29 1991 8.5\n",
      "Back to the Future 30 1985 8.5\n",
      "Sen to Chihiro no kamikakushi 31 2001 8.5\n",
      "Psycho 32 1960 8.5\n",
      "The Pianist 33 2002 8.5\n",
      "Gisaengchung 34 2019 8.5\n",
      "Léon 35 1994 8.5\n",
      "The Lion King 36 1994 8.5\n",
      "Gladiator 37 2000 8.5\n",
      "American History X 38 1998 8.5\n",
      "The Departed 39 2006 8.5\n",
      "The Usual Suspects 40 1995 8.5\n",
      "The Prestige 41 2006 8.5\n",
      "Whiplash 42 2014 8.5\n",
      "Casablanca 43 1942 8.5\n",
      "Seppuku 44 1962 8.5\n",
      "Hotaru no haka 45 1988 8.5\n",
      "The Intouchables 46 2011 8.5\n",
      "Modern Times 47 1936 8.4\n",
      "Once Upon a Time in the West 48 1968 8.4\n",
      "Rear Window 49 1954 8.4\n",
      "Nuovo Cinema Paradiso 50 1988 8.4\n",
      "Alien 51 1979 8.4\n",
      "City Lights 52 1931 8.4\n",
      "Apocalypse Now 53 1979 8.4\n",
      "Memento 54 2000 8.4\n",
      "Raiders of the Lost Ark 55 1981 8.4\n",
      "Django Unchained 56 2012 8.4\n",
      "WALL·E 57 2008 8.4\n",
      "The Lives of Others 58 2006 8.4\n",
      "Sunset Blvd. 59 1950 8.4\n",
      "Paths of Glory 60 1957 8.4\n",
      "The Great Dictator 61 1940 8.4\n",
      "The Shining 62 1980 8.4\n",
      "Avengers: Infinity War 63 2018 8.4\n",
      "Witness for the Prosecution 64 1957 8.4\n",
      "Aliens 65 1986 8.3\n",
      "Spider-Man: Into the Spider-Verse 66 2018 8.3\n",
      "American Beauty 67 1999 8.3\n",
      "Dr. Strangelove or: How I Learned to Stop Worrying and Love the Bomb 68 1964 8.3\n",
      "The Dark Knight Rises 69 2012 8.3\n",
      "Oldeuboi 70 2003 8.3\n",
      "Amadeus 71 1984 8.3\n",
      "Inglourious Basterds 72 2009 8.3\n",
      "Joker 73 2019 8.3\n",
      "Coco 74 2017 8.3\n",
      "Toy Story 75 1995 8.3\n",
      "Braveheart 76 1995 8.3\n",
      "Das Boot 77 1981 8.3\n",
      "Avengers: Endgame 78 2019 8.3\n",
      "Mononoke-hime 79 1997 8.3\n",
      "Once Upon a Time in America 80 1984 8.3\n",
      "Good Will Hunting 81 1997 8.3\n",
      "Kimi no Na wa. 82 2016 8.3\n",
      "Top Gun: Maverick 83 2022 8.3\n",
      "Requiem for a Dream 84 2000 8.3\n",
      "3 Idiots 85 2009 8.3\n",
      "Singin' in the Rain 86 1952 8.3\n",
      "Toy Story 3 87 2010 8.3\n",
      "Tengoku to jigoku 88 1963 8.3\n",
      "Star Wars: Episode VI - Return of the Jedi 89 1983 8.3\n",
      "Capharnaüm 90 2018 8.3\n",
      "2001: A Space Odyssey 91 1968 8.3\n",
      "Eternal Sunshine of the Spotless Mind 92 2004 8.3\n",
      "Reservoir Dogs 93 1992 8.3\n",
      "Jagten 94 2012 8.3\n",
      "Idi i smotri 95 1985 8.3\n",
      "Citizen Kane 96 1941 8.3\n",
      "M - Eine Stadt sucht einen Mörder 97 1931 8.3\n",
      "Lawrence of Arabia 98 1962 8.3\n",
      "North by Northwest 99 1959 8.2\n",
      "Vertigo 100 1958 8.2\n",
      "Le fabuleux destin d'Amélie Poulain 101 2001 8.2\n",
      "A Clockwork Orange 102 1971 8.2\n",
      "The Apartment 103 1960 8.2\n",
      "Ikiru 104 1952 8.2\n",
      "Double Indemnity 105 1944 8.2\n",
      "Full Metal Jacket 106 1987 8.2\n",
      "Hamilton 107 2020 8.2\n",
      "Scarface 108 1983 8.2\n",
      "To Kill a Mockingbird 109 1962 8.2\n",
      "The Sting 110 1973 8.2\n",
      "Incendies 111 2010 8.2\n",
      "Up 112 2009 8.2\n",
      "Heat 113 1995 8.2\n",
      "Taxi Driver 114 1976 8.2\n",
      "Jodaeiye Nader az Simin 115 2011 8.2\n",
      "Metropolis 116 1927 8.2\n",
      "L.A. Confidential 117 1997 8.2\n",
      "Die Hard 118 1988 8.2\n",
      "Snatch 119 2000 8.2\n",
      "Indiana Jones and the Last Crusade 120 1989 8.2\n",
      "Ladri di biciclette 121 1948 8.2\n",
      "Taare Zameen Par 122 2007 8.2\n",
      "1917 123 2019 8.2\n",
      "Der Untergang 124 2004 8.2\n",
      "Per qualche dollaro in più 125 1965 8.2\n",
      "Dangal 126 2016 8.2\n",
      "Batman Begins 127 2005 8.2\n",
      "The Kid 128 1921 8.2\n",
      "Some Like It Hot 129 1959 8.2\n",
      "The Father 130 2020 8.2\n",
      "All About Eve 131 1950 8.2\n",
      "Green Book 132 2018 8.2\n",
      "The Wolf of Wall Street 133 2013 8.2\n",
      "Judgment at Nuremberg 134 1961 8.2\n",
      "Ran 135 1985 8.2\n",
      "Casino 136 1995 8.2\n",
      "Pan's Labyrinth 137 2006 8.2\n",
      "Unforgiven 138 1992 8.2\n",
      "There Will Be Blood 139 2007 8.2\n",
      "The Truman Show 140 1998 8.2\n",
      "The Sixth Sense 141 1999 8.2\n",
      "A Beautiful Mind 142 2001 8.2\n",
      "Shutter Island 143 2010 8.1\n",
      "Yôjinbô 144 1961 8.1\n",
      "Monty Python and the Holy Grail 145 1975 8.1\n",
      "The Treasure of the Sierra Madre 146 1948 8.1\n",
      "Spider-Man: No Way Home 147 2021 8.1\n",
      "Jurassic Park 148 1993 8.1\n",
      "The Great Escape 149 1963 8.1\n",
      "Rashômon 150 1950 8.1\n",
      "Kill Bill: Vol. 1 151 2003 8.1\n",
      "No Country for Old Men 152 2007 8.1\n",
      "Finding Nemo 153 2003 8.1\n",
      "The Thing 154 1982 8.1\n",
      "The Elephant Man 155 1980 8.1\n",
      "Chinatown 156 1974 8.1\n",
      "Raging Bull 157 1980 8.1\n",
      "Gone with the Wind 158 1939 8.1\n",
      "V for Vendetta 159 2005 8.1\n",
      "Inside Out 160 2015 8.1\n",
      "Lock, Stock and Two Smoking Barrels 161 1998 8.1\n",
      "Dial M for Murder 162 1954 8.1\n",
      "El secreto de sus ojos 163 2009 8.1\n",
      "Hauru no ugoku shiro 164 2004 8.1\n",
      "The Bridge on the River Kwai 165 1957 8.1\n",
      "Three Billboards Outside Ebbing, Missouri 166 2017 8.1\n",
      "Trainspotting 167 1996 8.1\n",
      "Warrior 168 2011 8.1\n",
      "Fargo 169 1996 8.1\n",
      "Gran Torino 170 2008 8.1\n",
      "Prisoners 171 2013 8.1\n",
      "Tonari no Totoro 172 1988 8.1\n",
      "Catch Me If You Can 173 2002 8.1\n",
      "Million Dollar Baby 174 2004 8.1\n",
      "Bacheha-Ye aseman 175 1997 8.1\n",
      "Blade Runner 176 1982 8.1\n",
      "The Gold Rush 177 1925 8.1\n",
      "On the Waterfront 178 1954 8.1\n",
      "Before Sunrise 179 1995 8.1\n",
      "12 Years a Slave 180 2013 8.1\n",
      "Harry Potter and the Deathly Hallows - Part 2 181 2011 8.1\n",
      "Ben-Hur 182 1959 8.1\n",
      "Smultronstället 183 1957 8.1\n",
      "Gone Girl 184 2014 8.1\n",
      "The Third Man 185 1949 8.1\n",
      "The General 186 1926 8.1\n",
      "The Grand Budapest Hotel 187 2014 8.1\n",
      "The Deer Hunter 188 1978 8.1\n",
      "In the Name of the Father 189 1993 8.1\n",
      "Klaus 190 2019 8.1\n",
      "Le salaire de la peur 191 1953 8.1\n",
      "Barry Lyndon 192 1975 8.1\n",
      "Hacksaw Ridge 193 2016 8.1\n",
      "Sherlock Jr. 194 1924 8.1\n",
      "Mr. Smith Goes to Washington 195 1939 8.1\n",
      "Salinui chueok 196 2003 8.1\n",
      "Relatos salvajes 197 2014 8.1\n",
      "Det sjunde inseglet 198 1957 8.1\n",
      "Mad Max: Fury Road 199 2015 8.1\n",
      "Room 200 2015 8.1\n",
      "Mary and Max. 201 2009 8.1\n",
      "How to Train Your Dragon 202 2010 8.1\n",
      "Monsters, Inc. 203 2001 8.1\n",
      "The Big Lebowski 204 1998 8.1\n",
      "Jaws 205 1975 8.1\n",
      "Dead Poets Society 206 1989 8.1\n",
      "La passion de Jeanne d'Arc 207 1928 8.1\n",
      "Tôkyô monogatari 208 1953 8.1\n",
      "Hotel Rwanda 209 2004 8.1\n",
      "Ford v Ferrari 210 2019 8.0\n",
      "Rocky 211 1976 8.0\n",
      "Platoon 212 1986 8.0\n",
      "Spotlight 213 2015 8.0\n",
      "The Terminator 214 1984 8.0\n",
      "Stand by Me 215 1986 8.0\n",
      "Logan 216 2017 8.0\n",
      "Ratatouille 217 2007 8.0\n",
      "Rush 218 2013 8.0\n",
      "Pather Panchali 219 1955 8.0\n",
      "Network 220 1976 8.0\n",
      "Into the Wild 221 2007 8.0\n",
      "The Wizard of Oz 222 1939 8.0\n",
      "Before Sunset 223 2004 8.0\n",
      "Groundhog Day 224 1993 8.0\n",
      "The Exorcist 225 1973 8.0\n",
      "The Best Years of Our Lives 226 1946 8.0\n",
      "The Incredibles 227 2004 8.0\n",
      "To Be or Not to Be 228 1942 8.0\n",
      "La battaglia di Algeri 229 1966 8.0\n",
      "Hachi: A Dog's Tale 230 2009 8.0\n",
      "La haine 231 1995 8.0\n",
      "Jai Bhim 232 2021 8.0\n",
      "Pirates of the Caribbean: The Curse of the Black Pearl 233 2003 8.0\n",
      "The Grapes of Wrath 234 1940 8.0\n",
      "Rebecca 235 1940 8.0\n",
      "Babam ve Oglum 236 2005 8.0\n",
      "Amores perros 237 2000 8.0\n",
      "Cool Hand Luke 238 1967 8.0\n",
      "Les quatre cents coups 239 1959 8.0\n",
      "Ah-ga-ssi 240 2016 8.0\n",
      "Persona 241 1966 8.0\n",
      "It Happened One Night 242 1934 8.0\n",
      "The Sound of Music 243 1965 8.0\n",
      "Life of Brian 244 1979 8.0\n",
      "Everything Everywhere All at Once 245 2022 8.0\n",
      "Dersu Uzala 246 1975 8.0\n",
      "Aladdin 247 1992 8.0\n",
      "The Iron Giant 248 1999 8.0\n",
      "The Help 249 2011 8.0\n",
      "Gandhi 250 1982 8.0\n"
     ]
    }
   ],
   "source": [
    "names = []       #Name of the movie \n",
    "ranks = []      # Rank of the movie\n",
    "years = []      # Year in which movie was released \n",
    "ratings = []    # IMDB Rating of the movie \n",
    "\n",
    "for movie in movies:\n",
    "    names.append(movie.find('td', class_= 'titleColumn').a.text)\n",
    "\n",
    "    ranks.append(movie.find('td', class_ = 'titleColumn').get_text(strip = True).split('.')[0])\n",
    "\n",
    "    years.append(movie.find('td', class_ = 'titleColumn').span.text.strip('()'))\n",
    "\n",
    "    ratings.append(movie.find('td', class_= 'ratingColumn imdbRating' ).strong.text)\n",
    "    \n",
    "\n",
    "for name, rank, year, rating in zip(names, ranks, years, ratings):\n",
    "    print(name, rank, year, rating)"
   ]
  },
  {
   "cell_type": "markdown",
   "id": "ac9604fb",
   "metadata": {},
   "source": [
    "# Creating a DataFrame of the Movie Data "
   ]
  },
  {
   "cell_type": "code",
   "execution_count": 16,
   "id": "512294da",
   "metadata": {},
   "outputs": [],
   "source": [
    "MovieRating = pd.DataFrame({\n",
    "    'Rank' : ranks,\n",
    "    'Movie_Title' : names,\n",
    "    'Year' : years,\n",
    "    'IMDB_Ratings' : ratings\n",
    " }) "
   ]
  },
  {
   "cell_type": "code",
   "execution_count": 17,
   "id": "7e7c8531",
   "metadata": {},
   "outputs": [
    {
     "data": {
      "text/html": [
       "<div>\n",
       "<style scoped>\n",
       "    .dataframe tbody tr th:only-of-type {\n",
       "        vertical-align: middle;\n",
       "    }\n",
       "\n",
       "    .dataframe tbody tr th {\n",
       "        vertical-align: top;\n",
       "    }\n",
       "\n",
       "    .dataframe thead th {\n",
       "        text-align: right;\n",
       "    }\n",
       "</style>\n",
       "<table border=\"1\" class=\"dataframe\">\n",
       "  <thead>\n",
       "    <tr style=\"text-align: right;\">\n",
       "      <th></th>\n",
       "      <th>Rank</th>\n",
       "      <th>Movie_Title</th>\n",
       "      <th>Year</th>\n",
       "      <th>IMDB_Ratings</th>\n",
       "    </tr>\n",
       "  </thead>\n",
       "  <tbody>\n",
       "    <tr>\n",
       "      <th>0</th>\n",
       "      <td>1</td>\n",
       "      <td>The Shawshank Redemption</td>\n",
       "      <td>1994</td>\n",
       "      <td>9.2</td>\n",
       "    </tr>\n",
       "    <tr>\n",
       "      <th>1</th>\n",
       "      <td>2</td>\n",
       "      <td>The Godfather</td>\n",
       "      <td>1972</td>\n",
       "      <td>9.2</td>\n",
       "    </tr>\n",
       "    <tr>\n",
       "      <th>2</th>\n",
       "      <td>3</td>\n",
       "      <td>The Dark Knight</td>\n",
       "      <td>2008</td>\n",
       "      <td>9.0</td>\n",
       "    </tr>\n",
       "    <tr>\n",
       "      <th>3</th>\n",
       "      <td>4</td>\n",
       "      <td>The Godfather Part II</td>\n",
       "      <td>1974</td>\n",
       "      <td>9.0</td>\n",
       "    </tr>\n",
       "    <tr>\n",
       "      <th>4</th>\n",
       "      <td>5</td>\n",
       "      <td>12 Angry Men</td>\n",
       "      <td>1957</td>\n",
       "      <td>9.0</td>\n",
       "    </tr>\n",
       "  </tbody>\n",
       "</table>\n",
       "</div>"
      ],
      "text/plain": [
       "  Rank               Movie_Title  Year IMDB_Ratings\n",
       "0    1  The Shawshank Redemption  1994          9.2\n",
       "1    2             The Godfather  1972          9.2\n",
       "2    3           The Dark Knight  2008          9.0\n",
       "3    4     The Godfather Part II  1974          9.0\n",
       "4    5              12 Angry Men  1957          9.0"
      ]
     },
     "execution_count": 17,
     "metadata": {},
     "output_type": "execute_result"
    }
   ],
   "source": [
    "MovieRating.head()"
   ]
  },
  {
   "cell_type": "markdown",
   "id": "6755d2df",
   "metadata": {},
   "source": [
    "# Exporting Data to .csv"
   ]
  },
  {
   "cell_type": "code",
   "execution_count": 18,
   "id": "f395fbb8",
   "metadata": {},
   "outputs": [
    {
     "name": "stdout",
     "output_type": "stream",
     "text": [
      "Data Exported to MovieRatings.csv\n"
     ]
    }
   ],
   "source": [
    "MovieRating.to_csv('MovieRatings.csv', encoding= 'utf-8', index = False )\n",
    "print('Data Exported to MovieRatings.csv')"
   ]
  }
 ],
 "metadata": {
  "kernelspec": {
   "display_name": "Python 3 (ipykernel)",
   "language": "python",
   "name": "python3"
  },
  "language_info": {
   "codemirror_mode": {
    "name": "ipython",
    "version": 3
   },
   "file_extension": ".py",
   "mimetype": "text/x-python",
   "name": "python",
   "nbconvert_exporter": "python",
   "pygments_lexer": "ipython3",
   "version": "3.11.1"
  }
 },
 "nbformat": 4,
 "nbformat_minor": 5
}
